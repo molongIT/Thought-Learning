{
 "cells": [
  {
   "cell_type": "code",
   "execution_count": null,
   "metadata": {
    "collapsed": true
   },
   "outputs": [],
   "source": []
  },
  {
   "cell_type": "markdown",
   "source": [
    "## Pandas\n",
    "#### 一个强大的分析结构化数据的工具集，基础是 Numpy（提供高性能的矩阵运算）。\n",
    "#### Pandas 可以从各种文件格式比如 CSV、JSON、SQL、Microsoft Excel 导入数据。\n",
    "* Pandas 可以对各种数据进行运算操作，比如归并、再成形、选择，还有数据清洗和数据加工特征。\n",
    "* Pandas 的主要数据结构是 Series （一维数据）与 DataFrame（二维数据）。\n",
    "* Pandas 广泛应用在学术、金融、统计学等各个数据分析领域。\n",
    "\n",
    "Pandas 提供了丰富的功能，包括：\n",
    "* 数据清洗和预处理： Pandas被广泛用于清理和预处理数据，包括处理缺失值、异常值、重复值等。它提供了各种方法来使数据更适合进行进一步的分析。\n",
    "* 数据分析和统计： Pandas使数据分析变得更加简单，通过DataFrame和Series的灵活操作，用户可以轻松地进行统计分析、汇总、聚合等操作。从均值、中位数到标准差和相关性分析，Pandas都提供了丰富的功能。\n",
    "* 数据可视化： 将Pandas与Matplotlib、Seaborn等数据可视化库结合使用，可以创建各种图表和图形，从而更直观地理解数据分布和趋势。这对于数据科学家、分析师和决策者来说都是关键的。\n",
    "* 时间序列分析： Pandas在处理时间序列数据方面表现出色，支持对日期和时间进行高效操作。这对于金融领域、生产领域以及其他需要处理时间序列的行业尤为重要。\n",
    "* 机器学习和数据建模： 在机器学习中，数据预处理是非常关键的一步，而Pandas提供了强大的功能来处理和准备数据。它可以帮助用户将数据整理成适用于机器学习算法的格式。\n",
    "* 数据库操作： Pandas可以轻松地与数据库进行交互，从数据库中导入数据到DataFrame中，进行分析和处理，然后将结果导回数据库。这在数据库管理和分析中非常有用。\n",
    "* 实时数据分析： 对于需要实时监控和分析数据的应用，Pandas的高效性能使其成为一个强大的工具。结合其他实时数据处理工具，可以构建实时分析系统。\n"
   ],
   "metadata": {
    "collapsed": false
   }
  },
  {
   "cell_type": "code",
   "execution_count": 2,
   "outputs": [
    {
     "name": "stdout",
     "output_type": "stream",
     "text": [
      "    sites  number\n",
      "0  Google       1\n",
      "1  Runoob       2\n",
      "2    Wiki       3\n"
     ]
    }
   ],
   "source": [
    "import pandas as pd\n",
    "mydataset = {\n",
    "  'sites': [\"Google\", \"Runoob\", \"Wiki\"],\n",
    "  'number': [1, 2, 3]\n",
    "}\n",
    "\n",
    "myvar = pd.DataFrame(mydataset)\n",
    "\n",
    "print(myvar)"
   ],
   "metadata": {
    "collapsed": false,
    "pycharm": {
     "name": "#%%\n"
    }
   }
  },
  {
   "cell_type": "markdown",
   "source": [
    "#### Series 是 Pandas 中的一种基本数据结构，类似于一维数组或列表，但具有标签（索引），使得数据在处理和分析时更具灵活性。\n",
    "##### 创建 Series： 可以使用 pd.Series() 构造函数创建一个 Series 对象，传递一个数据数组（可以是列表、NumPy 数组等）和一个可选的索引数组。"
   ],
   "metadata": {
    "collapsed": false
   }
  },
  {
   "cell_type": "code",
   "execution_count": 8,
   "outputs": [
    {
     "name": "stdout",
     "output_type": "stream",
     "text": [
      "0    1\n",
      "1    2\n",
      "2    3\n",
      "dtype: int64\n",
      "0    1\n",
      "1    2\n",
      "2    3\n",
      "3    4\n",
      "dtype: int64\n",
      "x    Google\n",
      "y    Runoob\n",
      "z      Wiki\n",
      "dtype: object\n"
     ]
    }
   ],
   "source": [
    "import pandas as pd\n",
    "import numpy as np\n",
    "myvar1 = pd.Series([1,2,3])\n",
    "myvar2 = pd.Series(np.array([1,2,3,4]))\n",
    "print(myvar1)\n",
    "print(myvar2)\n",
    "\n",
    "a = [\"Google\", \"Runoob\", \"Wiki\"]\n",
    "\n",
    "myvar3 = pd.Series(a, index = ['x', \"y\", \"z\"])\n",
    "\n",
    "print(myvar3)\n",
    "\n"
   ],
   "metadata": {
    "collapsed": false,
    "pycharm": {
     "name": "#%%\n"
    }
   }
  },
  {
   "cell_type": "code",
   "execution_count": 9,
   "outputs": [
    {
     "name": "stdout",
     "output_type": "stream",
     "text": [
      "1    Google\n",
      "2    Runoob\n",
      "3      Wiki\n",
      "dtype: object\n"
     ]
    }
   ],
   "source": [
    "## 使用字典来创建\n",
    "import pandas as pd\n",
    "\n",
    "sites = {1: \"Google\", 2: \"Runoob\", 3: \"Wiki\"}\n",
    "\n",
    "myvar = pd.Series(sites)\n",
    "\n",
    "print(myvar)\n"
   ],
   "metadata": {
    "collapsed": false,
    "pycharm": {
     "name": "#%%\n"
    }
   }
  },
  {
   "cell_type": "markdown",
   "source": [
    "## DataFrame"
   ],
   "metadata": {
    "collapsed": false
   }
  },
  {
   "cell_type": "code",
   "execution_count": 10,
   "outputs": [
    {
     "name": "stdout",
     "output_type": "stream",
     "text": [
      "     Site   Age\n",
      "0  Google  10.0\n",
      "1  Runoob  12.0\n",
      "2    Wiki  13.0\n"
     ]
    }
   ],
   "source": [
    "import pandas as pd\n",
    "\n",
    "data = [['Google',10],['Runoob',12],['Wiki',13]]\n",
    "\n",
    "df = pd.DataFrame(data,columns=['Site','Age'],dtype=float)\n",
    "\n",
    "print(df)\n",
    "\n",
    "### 如何修改值"
   ],
   "metadata": {
    "collapsed": false,
    "pycharm": {
     "name": "#%%\n"
    }
   }
  },
  {
   "cell_type": "code",
   "execution_count": 17,
   "outputs": [
    {
     "name": "stdout",
     "output_type": "stream",
     "text": [
      "     name               site  age\n",
      "0  Google     www.google.com   90\n",
      "1  Runoob     www.runoob.com   40\n",
      "2  Taobao     www.taobao.com   80\n",
      "3    Wiki  www.wikipedia.org   98\n"
     ]
    }
   ],
   "source": [
    "## 读取csv\n",
    "import pandas as pd\n",
    "\n",
    "df = pd.read_csv('nba.csv')\n",
    "\n",
    "# print(df.to_string()) # to_string() 用于返回 DataFrame 类型的数据，如果不使用该函数，则输出结果为数据的前面 5 行和末尾 5 行，中间部分以 ... 代替。\n",
    "\n",
    "\n",
    "# 三个字段 name, site, age\n",
    "nme = [\"Google\", \"Runoob\", \"Taobao\", \"Wiki\"]\n",
    "st = [\"www.google.com\", \"www.runoob.com\", \"www.taobao.com\", \"www.wikipedia.org\"]\n",
    "ag = [90, 40, 80, 98]\n",
    "\n",
    "# 字典\n",
    "dict = {'name': nme, 'site': st, 'age': ag}\n",
    "\n",
    "df = pd.DataFrame(dict)\n",
    "\n",
    "print(df)\n",
    "# 保存 dataframe\n",
    "df.to_csv('site.csv')"
   ],
   "metadata": {
    "collapsed": false,
    "pycharm": {
     "name": "#%%\n"
    }
   }
  },
  {
   "cell_type": "markdown",
   "source": [
    "## 读取JSON格式"
   ],
   "metadata": {
    "collapsed": false
   }
  },
  {
   "cell_type": "code",
   "execution_count": 19,
   "outputs": [
    {
     "name": "stdout",
     "output_type": "stream",
     "text": [
      "     id    name             url  likes\n",
      "0  A001    菜鸟教程  www.runoob.com     61\n",
      "1  A002  Google  www.google.com    124\n",
      "2  A003      淘宝  www.taobao.com     45\n",
      "      col1 col2\n",
      "row1     1    x\n",
      "row2     2    y\n",
      "row3     3    z\n"
     ]
    }
   ],
   "source": [
    "json = [\n",
    "   {\n",
    "   \"id\": \"A001\",\n",
    "   \"name\": \"菜鸟教程\",\n",
    "   \"url\": \"www.runoob.com\",\n",
    "   \"likes\": 61\n",
    "   },\n",
    "   {\n",
    "   \"id\": \"A002\",\n",
    "   \"name\": \"Google\",\n",
    "   \"url\": \"www.google.com\",\n",
    "   \"likes\": 124\n",
    "   },\n",
    "   {\n",
    "   \"id\": \"A003\",\n",
    "   \"name\": \"淘宝\",\n",
    "   \"url\": \"www.taobao.com\",\n",
    "   \"likes\": 45\n",
    "   }\n",
    "]\n",
    "# JSON 对象与 Python 字典具有相同的格式，所以我们可以直接将 Python 字典转化为 DataFrame 数据：\n",
    "import pandas as pd\n",
    "df = pd.DataFrame(json)\n",
    "print(df.to_string())\n",
    "\n",
    "import pandas as pd\n",
    "\n",
    "\n",
    "# 字典格式的 JSON\n",
    "s = {\n",
    " \"col1\":{\"row1\":1,\"row2\":2,\"row3\":3},\n",
    " \"col2\":{\"row1\":\"x\",\"row2\":\"y\",\"row3\":\"z\"}\n",
    "}\n",
    "# 读取 JSON 转为 DataFrame\n",
    "df = pd.DataFrame(s)\n",
    "print(df)\n"
   ],
   "metadata": {
    "collapsed": false,
    "pycharm": {
     "name": "#%%\n"
    }
   }
  },
  {
   "cell_type": "markdown",
   "source": [
    "## 数据清洗: 是对一些没有用的数据进行处理的过程。\n"
   ],
   "metadata": {
    "collapsed": false
   }
  },
  {
   "cell_type": "code",
   "execution_count": 27,
   "outputs": [
    {
     "name": "stdout",
     "output_type": "stream",
     "text": [
      "           PID   ST_NUM     ST_NAME OWN_OCCUPIED NUM_BEDROOMS NUM_BATH  SQ_FT\n",
      "0  100001000.0    104.0      PUTNAM            Y            3        1   1000\n",
      "1  100002000.0    197.0   LEXINGTON            N            3      1.5     --\n",
      "2  100003000.0  12345.0   LEXINGTON            N        12345        1    850\n",
      "3  100004000.0    201.0    BERKELEY           12            1    12345    700\n",
      "4      12345.0    203.0    BERKELEY            Y            3        2   1600\n",
      "5  100006000.0    207.0    BERKELEY            Y        12345        1    800\n",
      "6  100007000.0  12345.0  WASHINGTON        12345            2   HURLEY    950\n",
      "7  100008000.0    213.0     TREMONT            Y            1        1  12345\n",
      "8  100009000.0    215.0     TREMONT            Y           na        2   1800\n"
     ]
    }
   ],
   "source": [
    "## eg2:\n",
    "import pandas as pd\n",
    "\n",
    "df = pd.read_csv('property-data.csv')\n",
    "\n",
    "df.fillna(12345, inplace = True)\n",
    "\n",
    "print(df.to_string())"
   ],
   "metadata": {
    "collapsed": false,
    "pycharm": {
     "name": "#%%\n"
    }
   }
  },
  {
   "cell_type": "code",
   "execution_count": 28,
   "outputs": [
    {
     "name": "stdout",
     "output_type": "stream",
     "text": [
      "           PID      ST_NUM     ST_NAME OWN_OCCUPIED NUM_BEDROOMS NUM_BATH SQ_FT\n",
      "0  100001000.0  104.000000      PUTNAM            Y            3        1  1000\n",
      "1  100002000.0  197.000000   LEXINGTON            N            3      1.5    --\n",
      "2  100003000.0  191.428571   LEXINGTON            N          NaN        1   850\n",
      "3  100004000.0  201.000000    BERKELEY           12            1      NaN   700\n",
      "4          NaN  203.000000    BERKELEY            Y            3        2  1600\n",
      "5  100006000.0  207.000000    BERKELEY            Y          NaN        1   800\n",
      "6  100007000.0  191.428571  WASHINGTON          NaN            2   HURLEY   950\n",
      "7  100008000.0  213.000000     TREMONT            Y            1        1   NaN\n",
      "8  100009000.0  215.000000     TREMONT            Y           na        2  1800\n"
     ]
    }
   ],
   "source": [
    "## eg2:\n",
    "import pandas as pd\n",
    "\n",
    "df = pd.read_csv('property-data.csv')\n",
    "\n",
    "x = df[\"ST_NUM\"].mean()\n",
    "\n",
    "df[\"ST_NUM\"].fillna(x, inplace = True)\n",
    "\n",
    "print(df.to_string())\n"
   ],
   "metadata": {
    "collapsed": false,
    "pycharm": {
     "name": "#%%\n"
    }
   }
  },
  {
   "cell_type": "code",
   "execution_count": 29,
   "outputs": [
    {
     "name": "stdout",
     "output_type": "stream",
     "text": [
      "     name  age\n",
      "0  Google   50\n",
      "1  Runoob  120\n",
      "2  Taobao  120\n"
     ]
    }
   ],
   "source": [
    "## eg3:Pandas 清洗错误数据\n",
    "import pandas as pd\n",
    "\n",
    "person = {\n",
    "  \"name\": ['Google', 'Runoob' , 'Taobao'],\n",
    "  \"age\": [50, 200, 12345]\n",
    "}\n",
    "\n",
    "df = pd.DataFrame(person)\n",
    "\n",
    "for x in df.index:\n",
    "    if df.loc[x, \"age\"] > 120:\n",
    "      df.loc[x, \"age\"] = 120\n",
    "\n",
    "print(df.to_string())\n"
   ],
   "metadata": {
    "collapsed": false,
    "pycharm": {
     "name": "#%%\n"
    }
   }
  },
  {
   "cell_type": "code",
   "execution_count": 33,
   "outputs": [
    {
     "name": "stdout",
     "output_type": "stream",
     "text": [
      "     name  age\n",
      "0  Google   50\n",
      "1  Runoob   40\n",
      "3  Taobao   23\n"
     ]
    }
   ],
   "source": [
    "## eg4:Pandas 清洗重复数据\n",
    "import pandas as pd\n",
    "\n",
    "person = {\n",
    "  \"name\": ['Google', 'Runoob', 'Runoob', 'Taobao'],\n",
    "  \"age\": [50, 40, 40, 23]\n",
    "}\n",
    "df = pd.DataFrame(person)\n",
    "\n",
    "df.drop_duplicates(inplace=True)\n",
    "print(df)\n",
    "\n"
   ],
   "metadata": {
    "collapsed": false,
    "pycharm": {
     "name": "#%%\n"
    }
   }
  },
  {
   "cell_type": "markdown",
   "source": [
    "## 其他常用函数"
   ],
   "metadata": {
    "collapsed": false
   }
  },
  {
   "cell_type": "code",
   "execution_count": 7,
   "outputs": [
    {
     "name": "stdout",
     "output_type": "stream",
     "text": [
      "                     id username  \\\n",
      "0   1456490813914058123      孟令云   \n",
      "1   1456490813914058800       李悦   \n",
      "2   1456494194804097026      罗富明   \n",
      "3   1456505308627562498      逄晓龙   \n",
      "4   1457359299063435265      张婧妍   \n",
      "5   1468576664102436865   pxlong   \n",
      "6   1648145170815180802      pxl   \n",
      "7   1653957888860778497     pxl2   \n",
      "8   1653958294013804546     pxl3   \n",
      "9   1654269498544451586    pxl10   \n",
      "10  1654273509767049217    pxl32   \n",
      "11  1654317031727648769     test   \n",
      "12  1654668635865698305    test2   \n",
      "13  1654682651182845953    test3   \n",
      "14  1656136641825255425     pxll   \n",
      "15  1660561314403057666    pxl33   \n",
      "16  1661170456390008833    pxll7   \n",
      "17  1661218095001239553    pxll2   \n",
      "18  1661243842348711937  pxltest   \n",
      "19  1661278722310799361    pxll4   \n",
      "20  1661618009464111106   pxl100   \n",
      "\n",
      "                                             password  enabled  is_root  \\\n",
      "0                                              123456        1        0   \n",
      "1   $2a$10$SFJxT8381W4sj6E/yeGu/utSNSxX4J7gnCX7fN4...        1        0   \n",
      "2   $2a$10$dcO.dFiCuN.iF4sxPRmpqe5xSspKxi/2NXDTa/i...        1        0   \n",
      "3   $2a$10$SFJxT8381W4sj6E/yeGu/utSNSxX4J7gnCX7fN4...        1        1   \n",
      "4   $2a$10$/wdgv4HK5GILdrO4ApuYte3B90Y.pktLBdvANp0...        1        0   \n",
      "5   $2a$10$D7OG5G2N67HY2J7U1qMtDe4esO0i7ZUs1Qop8cG...        1        0   \n",
      "6   $2a$10$cgHEdBoU9tn3DpGxixXUjOJBxsNcsqLQmXvqFgs...        1        0   \n",
      "7   $2a$10$.gpV.99PYdD6gk6qyiPuwezRnz6ZWR78RIv0ELj...        1        0   \n",
      "8   $2a$10$cJET.LwLo5WNK6aKMIK0Qef/8T7y5/tfiz.JCDp...        1        0   \n",
      "9   $2a$10$WxcgPQY7voiBC/XRfy80quVqgDDDrIhzynALtmb...        1        0   \n",
      "10  $2a$10$7iKpvmBO4kDu78HKSlfL6OOk2.bmLB2G8bPRArR...        1        0   \n",
      "11  $2a$10$ieYHZTLfBHc6kcnopQWLUOKQDpp2PoAP4s5aVU....        1        0   \n",
      "12  $2a$10$7Omi868cYjgWmvMy53JrXeh/lHPCgf6.imPOhuW...        1        0   \n",
      "13  $2a$10$lxbHu//9CWJkW/lwlPqcSOCIWAYOMpn9mcmNRHI...        1        0   \n",
      "14  $2a$10$unz8fJLd8dMWLRAsGzjp0uGN6bSXxhZLZFsGxoB...        1        0   \n",
      "15  $2a$10$2hZLai31zKfYRxj2TTWzCeA1pQtjYfZqWAGM7UH...        1        0   \n",
      "16  $2a$10$AyjwkCQBDWrSpW0fzaNJ9.a8dbN9Wwe579k/AiW...        1        0   \n",
      "17  $2a$10$Pi6Yp4nO7VzlHyFHFf9xf.r.Xfj1a7fwHUcP8Ou...        1        0   \n",
      "18  $2a$10$EOg7gjH2t0A97HwaOcXF0Ox.Ll78tpJpXCADt18...        1        0   \n",
      "19  $2a$10$4yOmXibjD3Fy.NrCdpakve/V4MLaGbocqwqT0iD...        1        0   \n",
      "20  $2a$10$nUKuBSJu43LbHOhAsdD0wODvUeZP23lIVOK7FdF...        1        0   \n",
      "\n",
      "   nickname         phone gender  \\\n",
      "0      None  123456789123      0   \n",
      "1      None   18866222733      1   \n",
      "2      None   18866222733      0   \n",
      "3      None   17766222733      0   \n",
      "4      None   12266222733      1   \n",
      "5      None          None   None   \n",
      "6      None          None   None   \n",
      "7      None          None   None   \n",
      "8      None          None   None   \n",
      "9      None          None   None   \n",
      "10     None          None   None   \n",
      "11     None          None   None   \n",
      "12     None          None   None   \n",
      "13     None          None   None   \n",
      "14     None          None   None   \n",
      "15     None          None   None   \n",
      "16     None          None   None   \n",
      "17     None          None   None   \n",
      "18     None          None   None   \n",
      "19     None          None   None   \n",
      "20     None          None   None   \n",
      "\n",
      "                                               avatar  \n",
      "0   https://gimg2.baidu.com/image_search/src=http%...  \n",
      "1   https://gimg2.baidu.com/image_search/src=http%...  \n",
      "2   https://gimg2.baidu.com/image_search/src=http%...  \n",
      "3   https://gimg2.baidu.com/image_search/src=http%...  \n",
      "4   https://gimg2.baidu.com/image_search/src=http%...  \n",
      "5   https://gimg2.baidu.com/image_search/src=http%...  \n",
      "6   https://gimg2.baidu.com/image_search/src=http%...  \n",
      "7   https://gimg2.baidu.com/image_search/src=http%...  \n",
      "8   https://gimg2.baidu.com/image_search/src=http%...  \n",
      "9   https://gimg2.baidu.com/image_search/src=http%...  \n",
      "10  https://gimg2.baidu.com/image_search/src=http%...  \n",
      "11  https://gimg2.baidu.com/image_search/src=http%...  \n",
      "12  https://gimg2.baidu.com/image_search/src=http%...  \n",
      "13  https://gimg2.baidu.com/image_search/src=http%...  \n",
      "14  https://gimg2.baidu.com/image_search/src=http%...  \n",
      "15  https://gimg2.baidu.com/image_search/src=http%...  \n",
      "16  https://gimg2.baidu.com/image_search/src=http%...  \n",
      "17  https://gimg2.baidu.com/image_search/src=http%...  \n",
      "18  https://gimg2.baidu.com/image_search/src=http%...  \n",
      "19  https://gimg2.baidu.com/image_search/src=http%...  \n",
      "20  https://gimg2.baidu.com/image_search/src=http%...  \n"
     ]
    }
   ],
   "source": [
    "import pandas as pd\n",
    "\n",
    "# 从 CSV 文件中读取数据\n",
    "# df = pd.read_csv('data.csv')\n",
    "\n",
    "# 从 Excel 文件中读取数据\n",
    "# df = pd.read_excel('data.xlsx')\n",
    "\n",
    "# 从 SQL 数据库中读取数据\n",
    "import pymysql\n",
    "import pandas as pd\n",
    "\n",
    "# 创建数据库连接\n",
    "conn = pymysql.connect(\n",
    "    host='127.0.0.1',\n",
    "    port=3306,\n",
    "    user='root',\n",
    "    password='123456',\n",
    "    database='luntan'\n",
    ")\n",
    "# 使用 Pandas 的 read_sql 方法来执行 SQL 查询并将结果存储在 DataFrame 中\n",
    "df = pd.read_sql('SELECT * FROM admin_user', conn)\n",
    "# 打印 DataFrame\n",
    "print(df)\n",
    "# 关闭数据库连接\n",
    "conn.close()\n",
    "\n",
    "\n",
    "# 从 JSON 字符串中读取数据\n",
    "# json_string = '{\"name\": \"John\", \"age\": 30, \"city\": \"New York\"}'\n",
    "# df = pd.read_json(json_string)\n",
    "\n",
    "# # 从 HTML 页面中读取数据\n",
    "# url = 'https://www.runoob.com'\n",
    "# dfs = pd.read_html(url)\n",
    "# df = dfs[0] # 选择第一个数据框"
   ],
   "metadata": {
    "collapsed": false,
    "pycharm": {
     "name": "#%%\n"
    }
   }
  },
  {
   "cell_type": "markdown",
   "source": [
    ">补充\n",
    "\n",
    "#### plt.scatter()\n",
    "plt.scatter() 是 Matplotlib 库中用于创建散点图的函数。这个函数的功能是在坐标轴上绘制两个变量的数据点集合，通常用于观察两个变量之间的关系。使用 plt.scatter()，你可以自定义散点的大小、颜色、透明度等属性，从而根据数据点的某些特征来可视化它们。例如，可以根据数据点的一个特征来变化颜色，或者根据另一个特征来调整点的大小。这使得散点图成为探索性数据分析中的一个重要工具，可以帮助理解数据的分布和模式。\n",
    "#### 切片\n",
    "df.iloc[0:100, 4]\n",
    "选取前100行的第4列的数据"
   ],
   "metadata": {
    "collapsed": false,
    "pycharm": {
     "name": "#%% md\n"
    }
   }
  }
 ],
 "metadata": {
  "kernelspec": {
   "display_name": "Python 3",
   "language": "python",
   "name": "python3"
  },
  "language_info": {
   "codemirror_mode": {
    "name": "ipython",
    "version": 2
   },
   "file_extension": ".py",
   "mimetype": "text/x-python",
   "name": "python",
   "nbconvert_exporter": "python",
   "pygments_lexer": "ipython2",
   "version": "2.7.6"
  }
 },
 "nbformat": 4,
 "nbformat_minor": 0
}