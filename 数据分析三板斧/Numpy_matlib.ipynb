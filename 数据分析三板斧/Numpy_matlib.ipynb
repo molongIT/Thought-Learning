{
 "cells": [
  {
   "cell_type": "code",
   "execution_count": null,
   "outputs": [],
   "source": [],
   "metadata": {
    "collapsed": false,
    "pycharm": {
     "name": "#%%\n"
    }
   }
  },
  {
   "cell_type": "code",
   "execution_count": null,
   "outputs": [],
   "source": [
    "import numpy as np\n",
    "import numpy.matlib\n",
    "\n",
    "### 构建特殊矩阵\n",
    "print(np.matlib.identity(5,dtype=int)) ### 单位矩阵\n",
    "print(np.matlib.eye(n=5,k=1,dtype=int))\n",
    "print(np.matlib.ones((3,3),float))\n"
   ],
   "metadata": {
    "collapsed": false,
    "pycharm": {
     "name": "#%%\n"
    }
   }
  },
  {
   "cell_type": "code",
   "execution_count": null,
   "outputs": [],
   "source": [
    "### 线性代数 linear algebra\n",
    "a = np.arange(4).reshape(2,2)\n",
    "print(a)\n",
    "b = np.arange(4,8).reshape(2,2)\n",
    "print(b)\n",
    "print(np.matlib.vdot(a,b)) ### 点积\n",
    "\n",
    "print(np.matmul(a,b)) ### 矩阵乘法\n",
    "\n",
    "### 行列式\n",
    "print(np.linalg.det(a))\n",
    "c = np.eye(5,dtype=int)\n",
    "print(c)\n",
    "print(np.linalg.det(c))\n",
    "### 逆矩阵\n",
    "x = np.array([[1,2],[3,4]])\n",
    "y = np.linalg.inv(x)\n",
    "k = np.linalg.inv(c)\n",
    "print(x)\n",
    "print(y)\n",
    "print(c)"
   ],
   "metadata": {
    "collapsed": false,
    "pycharm": {
     "name": "#%%\n"
    }
   }
  },
  {
   "cell_type": "code",
   "execution_count": 45,
   "outputs": [],
   "source": [
    "### io\n",
    "# NumPy 为 ndarray 对象引入了一个简单的文件格式：npy。\n",
    "# npy 文件用于存储重建 ndarray 所需的数据、图形、dtype 和其他信息。\n",
    "import numpy as np\n",
    "a = np.array([1,2,3,4,5])\n",
    "np.save('outfile.npy',a)"
   ],
   "metadata": {
    "collapsed": false,
    "pycharm": {
     "name": "#%%\n"
    }
   }
  },
  {
   "cell_type": "code",
   "execution_count": 46,
   "outputs": [
    {
     "name": "stdout",
     "output_type": "stream",
     "text": [
      "[1 2 3 4 5]\n"
     ]
    }
   ],
   "source": [
    "a = np.load('outfile.npy')\n",
    "print(a)\n"
   ],
   "metadata": {
    "collapsed": false,
    "pycharm": {
     "name": "#%%\n"
    }
   }
  },
  {
   "cell_type": "code",
   "execution_count": 54,
   "outputs": [
    {
     "name": "stdout",
     "output_type": "stream",
     "text": [
      "[1. 2. 3. 4. 5. 6. 7. 8. 9.]\n"
     ]
    }
   ],
   "source": [
    "a = np.arange(1,10,dtype=int)\n",
    "np.savetxt('out.txt',a)\n",
    "b = np.loadtxt('out.txt')\n",
    "print(b)\n"
   ],
   "metadata": {
    "collapsed": false,
    "pycharm": {
     "name": "#%%\n"
    }
   }
  }
 ],
 "metadata": {
  "kernelspec": {
   "display_name": "Python 3",
   "language": "python",
   "name": "python3"
  },
  "language_info": {
   "codemirror_mode": {
    "name": "ipython",
    "version": 2
   },
   "file_extension": ".py",
   "mimetype": "text/x-python",
   "name": "python",
   "nbconvert_exporter": "python",
   "pygments_lexer": "ipython2",
   "version": "2.7.6"
  }
 },
 "nbformat": 4,
 "nbformat_minor": 0
}