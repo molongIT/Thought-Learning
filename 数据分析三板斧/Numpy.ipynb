{
 "cells": [
  {
   "cell_type": "code",
   "execution_count": 1,
   "id": "6ee2e0d0",
   "metadata": {},
   "outputs": [
    {
     "data": {
      "text/plain": "array([[1., 0., 0., 0., 0., 0., 0., 0., 0., 0., 0., 0., 0., 0., 0.],\n       [0., 1., 0., 0., 0., 0., 0., 0., 0., 0., 0., 0., 0., 0., 0.],\n       [0., 0., 1., 0., 0., 0., 0., 0., 0., 0., 0., 0., 0., 0., 0.],\n       [0., 0., 0., 1., 0., 0., 0., 0., 0., 0., 0., 0., 0., 0., 0.],\n       [0., 0., 0., 0., 1., 0., 0., 0., 0., 0., 0., 0., 0., 0., 0.],\n       [0., 0., 0., 0., 0., 1., 0., 0., 0., 0., 0., 0., 0., 0., 0.],\n       [0., 0., 0., 0., 0., 0., 1., 0., 0., 0., 0., 0., 0., 0., 0.],\n       [0., 0., 0., 0., 0., 0., 0., 1., 0., 0., 0., 0., 0., 0., 0.],\n       [0., 0., 0., 0., 0., 0., 0., 0., 1., 0., 0., 0., 0., 0., 0.],\n       [0., 0., 0., 0., 0., 0., 0., 0., 0., 1., 0., 0., 0., 0., 0.],\n       [0., 0., 0., 0., 0., 0., 0., 0., 0., 0., 1., 0., 0., 0., 0.],\n       [0., 0., 0., 0., 0., 0., 0., 0., 0., 0., 0., 1., 0., 0., 0.],\n       [0., 0., 0., 0., 0., 0., 0., 0., 0., 0., 0., 0., 1., 0., 0.],\n       [0., 0., 0., 0., 0., 0., 0., 0., 0., 0., 0., 0., 0., 1., 0.],\n       [0., 0., 0., 0., 0., 0., 0., 0., 0., 0., 0., 0., 0., 0., 1.]])"
     },
     "execution_count": 1,
     "metadata": {},
     "output_type": "execute_result"
    }
   ],
   "source": [
    "## numpy 矩阵运算\n",
    "\n",
    "from numpy import *\n",
    "eye(15) # eye(num) 生成对角矩阵"
   ]
  },
  {
   "cell_type": "code",
   "execution_count": 3,
   "id": "09e05990",
   "metadata": {},
   "outputs": [
    {
     "name": "stdout",
     "output_type": "stream",
     "text": [
      "[1 2 3]\n"
     ]
    }
   ],
   "source": [
    "## NumPy 最重要的一个特点是其 N 维数组对象 ndarray\n",
    "import numpy as np\n",
    "a = np.array([1,2,3])\n",
    "print(a)"
   ]
  },
  {
   "cell_type": "code",
   "execution_count": 5,
   "id": "57aa34a5",
   "metadata": {},
   "outputs": [
    {
     "name": "stdout",
     "output_type": "stream",
     "text": [
      "[[1 2 3]\n",
      " [2 3 4]]\n"
     ]
    }
   ],
   "source": [
    "## 多维\n",
    "import numpy as np\n",
    "b = np.array([[1,2,3],[2,3,4]])\n",
    "print(b)\n"
   ]
  },
  {
   "cell_type": "code",
   "execution_count": 10,
   "outputs": [
    {
     "name": "stdout",
     "output_type": "stream",
     "text": [
      "[[1 2 3 4 5 6]]\n"
     ]
    }
   ],
   "source": [
    "## 多维\n",
    "import numpy as np\n",
    "c = np.array([1,2,3,4,5,6],ndmin=2)\n",
    "print(c)\n"
   ],
   "metadata": {
    "collapsed": false,
    "pycharm": {
     "name": "#%%\n"
    }
   }
  },
  {
   "cell_type": "code",
   "execution_count": 15,
   "outputs": [
    {
     "name": "stdout",
     "output_type": "stream",
     "text": [
      "[[1 2]\n",
      " [3 2]\n",
      " [3 4]]\n"
     ]
    }
   ],
   "source": [
    "### 调整维度\n",
    "import numpy as np\n",
    "d = np.array([[1,2,3],[2,3,4]])\n",
    "d.shape=(3,2)\n",
    "print(d)\n"
   ],
   "metadata": {
    "collapsed": false,
    "pycharm": {
     "name": "#%%\n"
    }
   }
  },
  {
   "cell_type": "code",
   "execution_count": 22,
   "outputs": [
    {
     "name": "stdout",
     "output_type": "stream",
     "text": [
      "[[1 2]\n",
      " [3 2]\n",
      " [3 4]]\n"
     ]
    }
   ],
   "source": [
    "## ndarray 数组除了可以使用底层 ndarray 构造器来创建外，也可以通过以下几种方式来创建。\n",
    "### 不初始化创建\n",
    "import numpy as np\n",
    "e = np.empty([3,2],dtype=int)\n",
    "print(e)"
   ],
   "metadata": {
    "collapsed": false,
    "pycharm": {
     "name": "#%%\n"
    }
   }
  },
  {
   "cell_type": "code",
   "execution_count": 26,
   "outputs": [
    {
     "name": "stdout",
     "output_type": "stream",
     "text": [
      "[0. 0. 0. 0. 0.]\n",
      "[[1. 1. 1.]\n",
      " [1. 1. 1.]]\n"
     ]
    }
   ],
   "source": [
    "## 0填充\n",
    "import numpy as np\n",
    "f = np.zeros(5)\n",
    "print(f)\n",
    "\n",
    "## 1填充\n",
    "g = ones([2,3])\n",
    "print(g)\n"
   ],
   "metadata": {
    "collapsed": false,
    "pycharm": {
     "name": "#%%\n"
    }
   }
  },
  {
   "cell_type": "code",
   "execution_count": 29,
   "outputs": [
    {
     "name": "stdout",
     "output_type": "stream",
     "text": [
      "[1 2 3]\n",
      "[1 4 5]\n",
      "[(1, 2, 3) (3, 4)]\n"
     ]
    }
   ],
   "source": [
    "import numpy as np\n",
    "## 将列表转为ndarray\n",
    "list = [1,2,3]\n",
    "adarray1 = np.asarray(list)\n",
    "print(adarray1)\n",
    "## 将元组庄伟ndarray\n",
    "turple1 = (1,4,5)\n",
    "list2 = np.asarray(turple1)\n",
    "print(list2)\n",
    "## 将元组列表转为ndarray\n",
    "list2 = [(1,2,3),(3,4)]\n",
    "adarray2 = np.asarray(list2)\n",
    "print(adarray2)\n"
   ],
   "metadata": {
    "collapsed": false,
    "pycharm": {
     "name": "#%%\n"
    }
   }
  },
  {
   "cell_type": "code",
   "execution_count": 30,
   "outputs": [
    {
     "name": "stdout",
     "output_type": "stream",
     "text": [
      "[2 3 4]\n"
     ]
    }
   ],
   "source": [
    "## 如何从数值范围创建数组。\n",
    "import numpy as np\n",
    "adarray3 = np.arange(2,5)\n",
    "print(adarray3)\n"
   ],
   "metadata": {
    "collapsed": false,
    "pycharm": {
     "name": "#%%\n"
    }
   }
  },
  {
   "cell_type": "code",
   "execution_count": 2,
   "outputs": [
    {
     "name": "stdout",
     "output_type": "stream",
     "text": [
      "[0 1 2 3 4 5 6 7 8 9]\n",
      "[2 3 4 5 6]\n",
      "[2 4 6]\n",
      "[[ 0  1  2  3  4]\n",
      " [ 5  6  7  8  9]\n",
      " [10 11 12 13 14]\n",
      " [15 16 17 18 19]]\n",
      "[[ 1  2]\n",
      " [ 6  7]\n",
      " [11 12]\n",
      " [16 17]]\n"
     ]
    }
   ],
   "source": [
    "## ndarray对象的内容可以通过索引或切片来访问和修改\n",
    "import numpy as np\n",
    "adarray4 = np.arange(10)\n",
    "s = slice(2,7,1)\n",
    "print(adarray4)\n",
    "print(adarray4[s])\n",
    "\n",
    "b = adarray4[2:7:2]\n",
    "print(b)\n",
    "\n",
    "\n",
    "##\n",
    "adarray5 = np.arange(20).reshape(4,5)\n",
    "print(adarray5)\n",
    "print(adarray5[:,[1,2]]) # :代表所有行，列表代表所选的列"
   ],
   "metadata": {
    "collapsed": false,
    "pycharm": {
     "name": "#%%\n"
    }
   }
  },
  {
   "cell_type": "code",
   "execution_count": 36,
   "outputs": [
    {
     "name": "stdout",
     "output_type": "stream",
     "text": [
      "[ 10  40  90 160]\n",
      "[[ 0  1  2]\n",
      " [10 11 12]\n",
      " [20 21 22]\n",
      " [30 31 32]]\n"
     ]
    }
   ],
   "source": [
    "## 广播机制\n",
    "### 广播(Broadcast)是 numpy 对不同形状(shape)的数组进行数值计算的方式， 对数组的算术运算通常在相应的元素上进行。\n",
    "\n",
    "import numpy as np\n",
    "\n",
    "a = np.array([1,2,3,4])\n",
    "b = np.array([10,20,30,40])\n",
    "c = a * b\n",
    "print (c)\n",
    "\n",
    "### 当运算中的 2 个数组的形状不同时，numpy 将自动触发广播机制。如：\n",
    "\n",
    "a = np.array([[ 0, 0, 0],\n",
    "           [10,10,10],\n",
    "           [20,20,20],\n",
    "           [30,30,30]])\n",
    "b = np.array([0,1,2])\n",
    "print(a + b)\n"
   ],
   "metadata": {
    "collapsed": false,
    "pycharm": {
     "name": "#%%\n"
    }
   }
  },
  {
   "cell_type": "code",
   "execution_count": 42,
   "outputs": [
    {
     "name": "stdout",
     "output_type": "stream",
     "text": [
      "[[1 4]\n",
      " [2 3]]\n",
      "[[1 2]\n",
      " [4 3]]\n",
      "1 4 2 3 "
     ]
    }
   ],
   "source": [
    "## 迭代输出（鸡肋）\n",
    "import numpy as np\n",
    "a = np.array([[1,4],[2,3]])\n",
    "print(a)\n",
    "print(a.T) # 转置\n",
    "## 迭代输出\n",
    "for x in np.nditer(a):\n",
    "    print(x,end=\" \")"
   ],
   "metadata": {
    "collapsed": false,
    "pycharm": {
     "name": "#%%\n"
    }
   }
  },
  {
   "cell_type": "code",
   "execution_count": 54,
   "outputs": [
    {
     "name": "stdout",
     "output_type": "stream",
     "text": [
      "[0 1 2 3 4 5 6 7 8 9]\n",
      "[[0 1 2 3 4]\n",
      " [5 6 7 8 9]]\n",
      "[[1 2 3]\n",
      " [4 5 6]]\n",
      "\n",
      "\n",
      "[1 2 3 4 5 6 7 8 9]\n",
      "[[1 2 3]\n",
      " [4 5 6]\n",
      " [7 8 9]]\n",
      "[[1 2 3 5 5 5]\n",
      " [4 5 6 7 8 9]]\n",
      "[1 2 3 3 4 2 1]\n",
      "[1 2 3 4]\n"
     ]
    }
   ],
   "source": [
    "## 数组操作\n",
    "### reshape\n",
    "import numpy as np\n",
    "a = np.arange(10)\n",
    "print(a)\n",
    "\n",
    "print(a.reshape(2,5))\n",
    "### 增加元素\n",
    "a = np.array([[1,2,3],[4,5,6]])\n",
    "print(a)\n",
    "print('\\n')\n",
    "print(np.append(a,[7,8,9]))\n",
    "print(np.append(a,[[7,8,9]],axis=0))\n",
    "print(np.append(a,[[5,5,5],[7,8,9]],axis=1))\n",
    "\n",
    "### 去除重复值\n",
    "a = np.array([1,2,3,3,4,2,1])\n",
    "print(a)\n",
    "print(np.unique(a))"
   ],
   "metadata": {
    "collapsed": false,
    "pycharm": {
     "name": "#%%\n"
    }
   }
  },
  {
   "cell_type": "code",
   "execution_count": null,
   "outputs": [],
   "source": [
    "### 位运算、字符串函数"
   ],
   "metadata": {
    "collapsed": false,
    "pycharm": {
     "name": "#%%\n"
    }
   }
  },
  {
   "cell_type": "code",
   "execution_count": 55,
   "outputs": [
    {
     "name": "stdout",
     "output_type": "stream",
     "text": [
      "[ 0.84147098  0.90929743  0.14112001 -0.7568025 ]\n"
     ]
    }
   ],
   "source": [
    "### 数学函数\n",
    "# eg:sin\n",
    "import numpy as np\n",
    "a = np.array([1,2,3,4])\n",
    "print(np.sin(a))\n"
   ],
   "metadata": {
    "collapsed": false,
    "pycharm": {
     "name": "#%%\n"
    }
   }
  },
  {
   "cell_type": "code",
   "execution_count": 56,
   "outputs": [
    {
     "name": "stdout",
     "output_type": "stream",
     "text": [
      "[3 5 7]\n",
      "[ 2  6 12]\n"
     ]
    }
   ],
   "source": [
    "## 算术函数\n",
    "a = np.array([1,2,3])\n",
    "b = np.array([2,3,4])\n",
    "print(a+b)\n",
    "print(a*b)"
   ],
   "metadata": {
    "collapsed": false,
    "pycharm": {
     "name": "#%%\n"
    }
   }
  },
  {
   "cell_type": "code",
   "execution_count": 62,
   "outputs": [
    {
     "name": "stdout",
     "output_type": "stream",
     "text": [
      "1\n",
      "3.0\n",
      "2.6\n",
      "1.019803902718557\n",
      "1.0400000000000003\n"
     ]
    }
   ],
   "source": [
    "## 统计函数\n",
    "\n",
    "a = np.array([1,2,3,4,3])\n",
    "print(np.amin(a))\n",
    "print(np.median(a))\n",
    "print(np.mean(a))\n",
    "print(np.std(a))\n",
    "print(np.var(a))"
   ],
   "metadata": {
    "collapsed": false,
    "pycharm": {
     "name": "#%%\n"
    }
   }
  },
  {
   "cell_type": "markdown",
   "source": [
    "#### np.bincount(y) ：\n",
    "统计类别标签：在机器学习中，尤其是分类问题中，可以使用 np.bincount(y) 来快速统计每个类别的样本数量。\n",
    "* 输入：np.bincount(y) 需要一个一维的非负整数数组 y 作为输入。\n",
    "* 输出：返回一个数组，其中第 i 个元素表示数字 i 在输入数组 y 中出现的次数。"
   ],
   "metadata": {
    "collapsed": false,
    "pycharm": {
     "name": "#%% md\n"
    }
   }
  },
  {
   "cell_type": "code",
   "execution_count": 69,
   "outputs": [
    {
     "name": "stdout",
     "output_type": "stream",
     "text": [
      "(array([2, 3, 4]),)\n",
      "[3 4 3]\n",
      "[False  True False  True False]\n",
      "[2 4]\n"
     ]
    }
   ],
   "source": [
    "## 排序、条件筛选函数\n",
    "### where numpy.where() 函数返回输入数组中满足给定条件的元素的索引。\n",
    "a = np.array([1,2,3,4,3])\n",
    "y = np.where(a>2)\n",
    "print(y)\n",
    "print(a[y])\n",
    "\n",
    "### numpy.extract() 函数根据某个条件从数组中抽取元素，返回满条件的元素。\n",
    "a = np.array([1,2,3,4,3])\n",
    "condition = np.mod(a,2) == 0\n",
    "print(condition)\n",
    "print(np.extract(condition,a))\n"
   ],
   "metadata": {
    "collapsed": false,
    "pycharm": {
     "name": "#%%\n"
    }
   }
  },
  {
   "cell_type": "code",
   "execution_count": 88,
   "outputs": [
    {
     "name": "stdout",
     "output_type": "stream",
     "text": [
      "[0 1 2 3 4 5]\n",
      "140317418395968\n",
      "[[0 1 2]\n",
      " [3 4 5]]\n",
      "140317418395968\n",
      "[[0 1 2]\n",
      " [3 4 5]]\n",
      "[0 1 2 3 4 5]\n",
      "140317418395808\n",
      "[[0 1 2]\n",
      " [3 4 5]]\n",
      "140317418393728\n",
      "\n",
      "\n",
      "[[0 1 2]\n",
      " [3 4 5]]\n",
      "[[0 1 2]\n",
      " [3 4 5]]\n",
      "[[0 1 2]\n",
      " [2 4 5]]\n",
      "False\n",
      "[[0 1 2]\n",
      " [3 4 5]]\n"
     ]
    }
   ],
   "source": [
    "## =简单赋值是副本。\n",
    "### 简单的赋值不会创建数组对象的副本。 相反，它使用原始数组的相同id()来访问它\n",
    "a = np.arange(6)\n",
    "print(a)\n",
    "print(id(a))\n",
    "\n",
    "b = a\n",
    "b.shape=(2,3)\n",
    "print(b)\n",
    "print(id(b))\n",
    "print(a)\n",
    "### 视图，浅拷贝.该方法创建的新数组的维数变化不会改变原始数据的维数。\n",
    "c = np.arange(6)\n",
    "d = c.view()\n",
    "print(c)\n",
    "print(id(c))\n",
    "d.shape=(2,3)\n",
    "print(d)\n",
    "print(id(d))\n",
    "### 副本，深拷贝\n",
    "print('\\n')\n",
    "print(d)\n",
    "e = d.copy()\n",
    "print(e)\n",
    "e[1][0]=2 ## 不改变原先数据。\n",
    "print(e)\n",
    "print(e is d)\n",
    "print(d)"
   ],
   "metadata": {
    "collapsed": false,
    "pycharm": {
     "name": "#%%\n"
    }
   }
  }
 ],
 "metadata": {
  "kernelspec": {
   "display_name": "Python 3 (ipykernel)",
   "language": "python",
   "name": "python3"
  },
  "language_info": {
   "codemirror_mode": {
    "name": "ipython",
    "version": 3
   },
   "file_extension": ".py",
   "mimetype": "text/x-python",
   "name": "python",
   "nbconvert_exporter": "python",
   "pygments_lexer": "ipython3",
   "version": "3.7.10"
  }
 },
 "nbformat": 4,
 "nbformat_minor": 5
}